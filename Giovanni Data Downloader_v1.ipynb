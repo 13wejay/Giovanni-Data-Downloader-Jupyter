{
 "cells": [
  {
   "cell_type": "markdown",
   "metadata": {},
   "source": [
    "## Library"
   ]
  },
  {
   "cell_type": "code",
   "execution_count": null,
   "metadata": {},
   "outputs": [],
   "source": [
    "import os\n",
    "import requests as req\n",
    "import concurrent.futures\n",
    "from tqdm import tqdm "
   ]
  },
  {
   "cell_type": "markdown",
   "metadata": {},
   "source": [
    "# Authorizations Earthdata NASA"
   ]
  },
  {
   "cell_type": "markdown",
   "metadata": {},
   "source": [
    "## Change Here"
   ]
  },
  {
   "cell_type": "markdown",
   "metadata": {},
   "source": [
    "Earthdata Username and Password"
   ]
  },
  {
   "cell_type": "code",
   "execution_count": null,
   "metadata": {},
   "outputs": [],
   "source": [
    "# Your credentials (replace with your username and password)\n",
    "username = \"your username\"\n",
    "password = \"your password\""
   ]
  },
  {
   "cell_type": "markdown",
   "metadata": {},
   "source": [
    "Earthdata NASA User Token for Authorizing Download"
   ]
  },
  {
   "cell_type": "code",
   "execution_count": null,
   "metadata": {},
   "outputs": [],
   "source": [
    "# Replace token from Earthdata User Token\n",
    "# Make sure the Token is still valid or not expired\n",
    "\n",
    "token = 'your token'\n",
    "\n",
    "headers = {\n",
    "    'Authorization': f'Bearer {token}'\n",
    "}"
   ]
  },
  {
   "cell_type": "markdown",
   "metadata": {},
   "source": [
    "## Auth Init"
   ]
  },
  {
   "cell_type": "code",
   "execution_count": null,
   "metadata": {},
   "outputs": [],
   "source": [
    "# URL of the Earthdata Login endpoint for authentication\n",
    "login_url = \"https://urs.earthdata.nasa.gov/login\"\n",
    "\n",
    "# Create a session to maintain cookies and headers\n",
    "session = req.Session()\n",
    "\n",
    "# Send a GET request to the login page to obtain authentication cookies\n",
    "response = session.get(login_url)\n",
    "        \n",
    "# Prepare the POST data with your credentials\n",
    "data = {\n",
    "\"username\": username,\n",
    "\"password\": password,\n",
    "\"_eventId\": \"submit\",\n",
    "\"action\": \"login\"\n",
    "}\n",
    "\n",
    "# Send a POST request to the login page with your credentials\n",
    "login_response = session.post(login_url, data=data)\n",
    "\n",
    "# POST request login check\n",
    "if login_response.status_code == 200:\n",
    "    print(\"Login successful.\")\n",
    "else:\n",
    "    print(f\"Login failed with status code: {login_response.status_code}\")"
   ]
  },
  {
   "cell_type": "markdown",
   "metadata": {},
   "source": [
    "# Download Functions"
   ]
  },
  {
   "cell_type": "markdown",
   "metadata": {},
   "source": [
    "## Directory Change Here"
   ]
  },
  {
   "cell_type": "markdown",
   "metadata": {},
   "source": [
    "URLs txt File Directory"
   ]
  },
  {
   "cell_type": "code",
   "execution_count": null,
   "metadata": {},
   "outputs": [],
   "source": [
    "# Specify the full path to the 'url.txt' file\n",
    "# Change path in the ('....')\n",
    "# e.g. E:\\#Project\\GPM\\raw_data\\url.txt\n",
    "\n",
    "url_file_path = r\"directory to .txt files\""
   ]
  },
  {
   "cell_type": "markdown",
   "metadata": {},
   "source": [
    "Output Save File"
   ]
  },
  {
   "cell_type": "code",
   "execution_count": null,
   "metadata": {},
   "outputs": [],
   "source": [
    "# Specify the output folder where downloaded files will be saved. \n",
    "# Change path in the ('....')\n",
    "# e.g. E:\\#Project\\GPM\\downloaded_files\n",
    "\n",
    "output_folder = r\"directory to output folder\"\n",
    "\n",
    "# Create the output folder if it doesn't exist\n",
    "# Don't Change\n",
    "os.makedirs(output_folder, exist_ok=True)"
   ]
  },
  {
   "cell_type": "markdown",
   "metadata": {},
   "source": [
    "## Read '.txt' URLs file and Download Functions"
   ]
  },
  {
   "cell_type": "code",
   "execution_count": null,
   "metadata": {},
   "outputs": [],
   "source": [
    "# Download function\n",
    "def download_url(url, output_folder):\n",
    "    print('Downloading...')\n",
    "    \n",
    "    try:\n",
    "        r = req.get(url, headers=headers, stream=True)\n",
    "        if r.status_code == req.codes.ok:\n",
    "            file_name = os.path.join(output_folder, url.split('/')[-1])               \n",
    "            total_size = int(r.headers.get('content-length', 0))\n",
    "            progress_bar = tqdm(total=total_size, unit='B', unit_scale=True)\n",
    "                        \n",
    "            with open(file_name, 'wb') as f:\n",
    "                for data in r.iter_content(chunk_size=8192):\n",
    "                    f.write(data)\n",
    "                    progress_bar.update(len(data))\n",
    "            progress_bar.close()\n",
    "            \n",
    "            print(\"Download completed\")\n",
    "        else:\n",
    "            print(\"Failed to download:\", url, \"Status Code:\", r.status_code)\n",
    "    except Exception as e:\n",
    "        print(\"An error occurred while downloading\", url, \"Error:\", str(e))\n",
    "\n",
    "# Read the list of URLs from a text file\n",
    "with open(url_file_path, 'r') as f:\n",
    "    urls = f.read().splitlines()\n",
    "    \n",
    "# Number of threads\n",
    "max_workers = 6"
   ]
  },
  {
   "cell_type": "markdown",
   "metadata": {},
   "source": [
    "# Download Proccess"
   ]
  },
  {
   "cell_type": "code",
   "execution_count": null,
   "metadata": {},
   "outputs": [],
   "source": [
    "# Download files concurrently using ThreadPoolExecutor\n",
    "with concurrent.futures.ThreadPoolExecutor(max_workers=max_workers) as executor:\n",
    "    for url in urls:\n",
    "        executor.submit(download_url, url, output_folder)"
   ]
  }
 ],
 "metadata": {
  "kernelspec": {
   "display_name": "base",
   "language": "python",
   "name": "python3"
  },
  "language_info": {
   "codemirror_mode": {
    "name": "ipython",
    "version": 3
   },
   "file_extension": ".py",
   "mimetype": "text/x-python",
   "name": "python",
   "nbconvert_exporter": "python",
   "pygments_lexer": "ipython3",
   "version": "3.12.3"
  },
  "orig_nbformat": 4
 },
 "nbformat": 4,
 "nbformat_minor": 2
}
